{
 "cells": [
  {
   "cell_type": "markdown",
   "id": "c5828bb2-1a69-42ea-8034-0e8833e5f9c7",
   "metadata": {},
   "source": [
    "## Take home exercises\n",
    "\n",
    "1. Write a function  *count_vowels(word)* that takes a word as an argument and returns the number of vowels in the word\n",
    "2. Iterate through the following list of animals and print each one in all caps.\n",
    "\n",
    "  animals=['tiger', 'elephant', 'monkey', 'zebra', 'panther']\n",
    "\n",
    "3. Write a program that iterates from 1 to 20, printing each number and whether it's odd or even.\n",
    "4. Write a function *sum_of_integers(a, b)* that takes two integers as input from the user and returns their sum.\n"
   ]
  },
  {
   "cell_type": "code",
   "execution_count": 7,
   "id": "166bcad6-01f9-4566-b524-ebd8406256b3",
   "metadata": {},
   "outputs": [],
   "source": [
    "def count_vowels(word):\n",
    "    # Convert the word to lowercase to handle both uppercase and lowercase vowels\n",
    "    word_lower = word.lower()\n",
    "    \n",
    "    # Define the set of vowels\n",
    "    vowels = {'a', 'e', 'i', 'o', 'u'}\n",
    "    \n",
    "    # Use a list comprehension to count the number of vowels in the word\n",
    "    #count = sum(1 for char in word_lower if char in vowels)\n",
    "    count = len([char for char in word_lower if char in vowels])\n",
    "    \n",
    "    return count"
   ]
  },
  {
   "cell_type": "code",
   "execution_count": 8,
   "id": "8b928601-f753-4da5-9b76-9b1433d16ff1",
   "metadata": {},
   "outputs": [
    {
     "data": {
      "text/plain": [
       "2"
      ]
     },
     "execution_count": 8,
     "metadata": {},
     "output_type": "execute_result"
    }
   ],
   "source": [
    "x = 'hello'\n",
    "count_vowels(x)"
   ]
  },
  {
   "cell_type": "code",
   "execution_count": 9,
   "id": "1abdd9ef-8496-48d8-b582-202c104eb5fb",
   "metadata": {},
   "outputs": [
    {
     "name": "stdout",
     "output_type": "stream",
     "text": [
      "TIGER\n",
      "ELEPHANT\n",
      "MONKEY\n",
      "ZEBRA\n",
      "PANTHER\n"
     ]
    }
   ],
   "source": [
    "animals = ['tiger', 'elephant', 'monkey', 'zebra', 'panther']\n",
    "\n",
    "for animal in animals:\n",
    "    print(animal.upper())"
   ]
  },
  {
   "cell_type": "code",
   "execution_count": 10,
   "id": "f04e9eee-6ff5-4dde-af57-fde84467ecbd",
   "metadata": {},
   "outputs": [
    {
     "name": "stdout",
     "output_type": "stream",
     "text": [
      "1 is odd\n",
      "2 is even\n",
      "3 is odd\n",
      "4 is even\n",
      "5 is odd\n",
      "6 is even\n",
      "7 is odd\n",
      "8 is even\n",
      "9 is odd\n",
      "10 is even\n",
      "11 is odd\n",
      "12 is even\n",
      "13 is odd\n",
      "14 is even\n",
      "15 is odd\n",
      "16 is even\n",
      "17 is odd\n",
      "18 is even\n",
      "19 is odd\n",
      "20 is even\n"
     ]
    }
   ],
   "source": [
    "for number in range(1, 21):\n",
    "    if number % 2 == 0:\n",
    "        print(f\"{number} is even\")\n",
    "    else:\n",
    "        print(f\"{number} is odd\")"
   ]
  },
  {
   "cell_type": "code",
   "execution_count": 11,
   "id": "d6df1e23-b667-42f1-841f-5c0f0f485edb",
   "metadata": {},
   "outputs": [
    {
     "name": "stdin",
     "output_type": "stream",
     "text": [
      "Enter two integers separated by space:  1 2\n"
     ]
    },
    {
     "name": "stdout",
     "output_type": "stream",
     "text": [
      "The sum of 1 and 2 is: 3\n"
     ]
    }
   ],
   "source": [
    "def sum_of_integers(a, b):\n",
    "    return a + b\n",
    "\n",
    "# Taking input from the user\n",
    "#num1 = int(input(\"Enter the first integer: \"))\n",
    "#num2 = int(input(\"Enter the second integer: \"))\n",
    "num1, num2 = map(int, input(\"Enter two integers separated by space: \").split())\n",
    "\n",
    "# Calling the function and printing the result\n",
    "result = sum_of_integers(num1, num2)\n",
    "print(f\"The sum of {num1} and {num2} is: {result}\")"
   ]
  },
  {
   "cell_type": "markdown",
   "id": "dadb1cb6-aef5-49d7-a2ed-96eb166c4044",
   "metadata": {},
   "source": [
    "## Additional Challenge - Books data challenge"
   ]
  },
  {
   "cell_type": "code",
   "execution_count": 16,
   "id": "f08496d7-5ab7-41d0-9270-4123cf943f4e",
   "metadata": {},
   "outputs": [],
   "source": [
    "books = [\n",
    "    {\n",
    "        \"title\": \"The Great Gatsby\",\n",
    "        \"author\": \"F. Scott Fitzgerald\",\n",
    "        \"genre\": \"Fiction\",\n",
    "        \"rating\": 4.2\n",
    "    },\n",
    "    {\n",
    "        \"title\": \"To Kill a Mockingbird\",\n",
    "        \"author\": \"Harper Lee\",\n",
    "        \"genre\": \"Classic\",\n",
    "        \"rating\": 4.5\n",
    "    },\n",
    "    {\n",
    "        \"title\": \"1984\",\n",
    "        \"author\": \"George Orwell\",\n",
    "        \"genre\": \"Dystopian\",\n",
    "        \"rating\": 4.8\n",
    "    },\n",
    "    {\n",
    "        \"title\": \"Pride and Prejudice\",\n",
    "        \"author\": \"Jane Austen\",\n",
    "        \"genre\": \"Romance\",\n",
    "        \"rating\": 4.7\n",
    "    },\n",
    "    {\n",
    "        \"title\": \"Harry Potter and the Sorcerer's Stone\",\n",
    "        \"author\": \"J.K. Rowling\",\n",
    "        \"genre\": \"Fantasy\",\n",
    "        \"rating\": 4.9\n",
    "    },\n",
    "    {\n",
    "        \"title\": \"The Catcher in the Rye\",\n",
    "        \"author\": \"J.D. Salinger\",\n",
    "        \"genre\": \"Coming-of-age\",\n",
    "        \"rating\": 4.1\n",
    "    }\n",
    "]"
   ]
  },
  {
   "cell_type": "markdown",
   "id": "458b7d7d-ac83-4408-a926-e2b47ee0dd4f",
   "metadata": {},
   "source": [
    "1.Checking Book Ratings\n",
    "\n",
    "Write a function `check_rating(book)` that takes a book dictionary and returns True if the rating is greater than 4.5, and False otherwise. Additionally, modify the function to return 'low' if the rating is less than or equal to 4.0, 'medium' if it's greater than 4.0 but less than or equal to 4.5, and 'high' if it's greater than 4.5.\n",
    "\n",
    "2.Average Rating by Genre\n",
    "\n",
    "Write a function `average_rating_by_genre(books, genre)` that accepts the list of books and a genre, and returns the average rating for that genre. If the genre does not exist in the list, return an appropriate message.\n",
    "\n",
    "3.Books by Author\n",
    "\n",
    "Write a function `books_by_author(books, author)` that accepts the book list and an author's name, and returns a list of all the books written by that author. If the author does not exist, raise a custom error."
   ]
  },
  {
   "cell_type": "code",
   "execution_count": 17,
   "id": "fe37790c-28e2-4a7d-b683-3d2e62ba4ce7",
   "metadata": {},
   "outputs": [],
   "source": [
    "def check_rating(book):\n",
    "    rating = book.get('rating', None)\n",
    "    \n",
    "    if rating is None:\n",
    "        return 'Rating not available'\n",
    "    \n",
    "    if rating <= 4.0:\n",
    "        return 'low'\n",
    "    elif 4.0 < rating <= 4.5:\n",
    "        return 'medium'\n",
    "    else:\n",
    "        return 'high'"
   ]
  },
  {
   "cell_type": "code",
   "execution_count": 18,
   "id": "8f4e710e-1546-4ac6-8952-0547db8eefaf",
   "metadata": {},
   "outputs": [
    {
     "name": "stdout",
     "output_type": "stream",
     "text": [
      "The Great Gatsby: medium\n",
      "To Kill a Mockingbird: medium\n",
      "1984: high\n",
      "Pride and Prejudice: high\n",
      "Harry Potter and the Sorcerer's Stone: high\n",
      "The Catcher in the Rye: medium\n"
     ]
    }
   ],
   "source": [
    "# Evaluate ratings for each book\n",
    "for book in books:\n",
    "    title = book.get('title', 'Title not available')\n",
    "    rating_result = check_rating(book)\n",
    "    print(f\"{title}: {rating_result}\")"
   ]
  },
  {
   "cell_type": "code",
   "execution_count": 19,
   "id": "0b021f44-b536-44de-b2ad-a5865cf0f66a",
   "metadata": {},
   "outputs": [
    {
     "name": "stdout",
     "output_type": "stream",
     "text": [
      "Average rating for the genre 'Classic': 4.5\n"
     ]
    }
   ],
   "source": [
    "def average_rating_by_genre(books, genre):\n",
    "    genre_ratings = [book['rating'] for book in books if book.get('genre') == genre]\n",
    "    \n",
    "    if not genre_ratings:\n",
    "        return f\"No books found for the genre '{genre}'\"\n",
    "    \n",
    "    average_rating = sum(genre_ratings) / len(genre_ratings)\n",
    "    return average_rating\n",
    "\n",
    "genre_to_check = 'Classic'\n",
    "result = average_rating_by_genre(books, genre_to_check)\n",
    "\n",
    "print(f\"Average rating for the genre '{genre_to_check}': {result}\")"
   ]
  },
  {
   "cell_type": "code",
   "execution_count": null,
   "id": "8b2539d1-33bc-41b2-a0c5-1968900abd50",
   "metadata": {},
   "outputs": [],
   "source": []
  }
 ],
 "metadata": {
  "kernelspec": {
   "display_name": "Python [conda env:mggy8413v2]",
   "language": "python",
   "name": "conda-env-mggy8413v2-py"
  },
  "language_info": {
   "codemirror_mode": {
    "name": "ipython",
    "version": 3
   },
   "file_extension": ".py",
   "mimetype": "text/x-python",
   "name": "python",
   "nbconvert_exporter": "python",
   "pygments_lexer": "ipython3",
   "version": "3.11.7"
  }
 },
 "nbformat": 4,
 "nbformat_minor": 5
}
